{
 "cells": [
  {
   "cell_type": "markdown",
   "metadata": {},
   "source": [
    "## Goal: To build an evaluation system where the LLM scores creative writing submissions based on clear, measurable objectives.\n",
    "- Tasks:\n",
    "     - Define evaluation objectives:\n",
    "       - Creativity: How original and innovative the writing is.\n",
    "       - Coherence: Logical flow and readability.\n",
    "        - Emotional Impact: Ability to evoke emotions effectively.\n",
    "        - Users also can define their own custom evaluation criteria\n",
    "    - Evaluation based on specific genre \n",
    "\n",
    "- Design Prompts:\n",
    "  - Scoring Template: Design prompts to guide the LLM in scoring submissions. \n",
    "    - Include:\n",
    "       - Objectives\n",
    "      - Scoring scales\n",
    "      - Instructions for constructive feedback.\n",
    "  - Emphasizing Relative Comparisons\n",
    "- Standardizing evaluation process \n",
    "  - Structured output\n",
    "  - Iterative Testing and Refinement \n",
    "  "
   ]
  },
  {
   "cell_type": "code",
   "execution_count": 7,
   "metadata": {},
   "outputs": [],
   "source": [
    "import openai\n",
    "import matplotlib.pyplot as plt\n",
    "openai.api_key = 'xyz' # write your own API key here"
   ]
  },
  {
   "cell_type": "markdown",
   "metadata": {},
   "source": [
    "# In the following case \n",
    "-  evaluation criteria defined including ceativity , coherence and emotional impact, \n",
    "- the prompts are designed based on objective, scoring scales and instructions for providing feedback \n",
    "- the evaluation process is strictured based on numerical scores"
   ]
  },
  {
   "cell_type": "code",
   "execution_count": 3,
   "metadata": {},
   "outputs": [],
   "source": [
    "\n",
    "def evaluate_creative_work(text):\n",
    "    prompt = f\"\"\"\n",
    "    You are an AI judge evaluating creative writing. \n",
    "    Evaluate the following work based on:\n",
    "    1. Creativity (0-10): How original and innovative is it?\n",
    "    2. Coherence (0-10): Does it flow logically and make sense?\n",
    "    3. Emotional Impact (0-10): Does it evoke feelings effectively?\n",
    "\n",
    "    Provide a score for each dimension and detailed feedback.\n",
    "\n",
    "    Creative Work:\n",
    "    \"{text}\"\n",
    "    \"\"\"\n",
    "    \n",
    "    response = openai.ChatCompletion.create(\n",
    "        model=\"gpt-4\",\n",
    "        messages=[{\"role\": \"user\", \"content\": prompt}],\n",
    "        temperature=0.7\n",
    "    )\n",
    "    return response[\"choices\"][0][\"message\"][\"content\"]\n",
    "\n",
    "\n"
   ]
  },
  {
   "cell_type": "code",
   "execution_count": 4,
   "metadata": {},
   "outputs": [
    {
     "name": "stdout",
     "output_type": "stream",
     "text": [
      "1. Creativity: 8.5/10\n",
      "The sentence is quite creative, employing personification (stars whispering) and metaphoric language (dreams dancing on the edge of reality) to create a mystical and dreamlike atmosphere. It suggests a connection between the cosmic and the personal, and the use of the concept of a 'forgotten time' adds an element of intrigue. It could be more creative by introducing more unique or unexpected elements.\n",
      "\n",
      "2. Coherence: 7/10\n",
      "The sentence is somewhat coherent, but it leans more toward the poetic and abstract. The metaphors are clear, but the sentence does not provide clear details about the setting, character, or plot. It's a standalone sentence, so it's hard to fully evaluate its coherence without more context. \n",
      "\n",
      "3. Emotional Impact: 9/10\n",
      "The sentence has a strong emotional impact, evoking feelings of nostalgia, wonder, and perhaps even a bit of melancholy or longing. The phrase \"forgotten time\" could stir up feelings of loss for a past, while \"dreams danced on the edge of reality\" suggests a sense of hope or desire for something just out of reach. The emotional resonance could be higher if the reader was given slightly more detail to establish a personal connection. \n",
      "\n",
      "Overall, this sentence showcases strong creative and emotional skills, but could benefit from a touch more clarity or detail to enhance coherence.\n"
     ]
    }
   ],
   "source": [
    "# Example Creative Work\n",
    "creative_work = \"The stars whispered secrets of a forgotten time, where dreams danced on the edge of reality.\"\n",
    "evaluation = evaluate_creative_work(creative_work)\n",
    "print(evaluation)"
   ]
  },
  {
   "cell_type": "markdown",
   "metadata": {},
   "source": [
    "# Compare two text\n",
    "\n",
    "### In the following case \n",
    "- evaluation criteria defined including ceativity , coherence and emotional impact, \n",
    "- the prompts are designed based on objective, scoring scales and instructions for providing feedback and effective prompt design is based on emphasizing relative comparisons as LLM is comparing two texts rather than evaluating a single text \n",
    "- the evaluation process is strictured based on numerical scores"
   ]
  },
  {
   "cell_type": "code",
   "execution_count": 8,
   "metadata": {},
   "outputs": [],
   "source": [
    "def compare_creative_works(work1, work2):\n",
    "    prompt = f\"\"\"\n",
    "    You are an AI judge comparing two creative writing pieces. \n",
    "    Evaluate them based on:\n",
    "    1. Creativity (0-10):  How original and innovative is it?\n",
    "    2. Coherence (0-10): Does it flow logically and make sense?\n",
    "    3. Emotional Impact (0-10): Does it evoke feelings effectively?\n",
    "\n",
    "    Provide a detailed comparison and scores for each dimension.\n",
    "\n",
    "    Work 1:\n",
    "    \"{work1}\"\n",
    "\n",
    "    Work 2:\n",
    "    \"{work2}\"\n",
    "    \"\"\"\n",
    "    \n",
    "    response = openai.ChatCompletion.create(\n",
    "        model=\"gpt-4\",\n",
    "        messages=[{\"role\": \"user\", \"content\": prompt}],\n",
    "        temperature=0.7\n",
    "    )\n",
    "    return response[\"choices\"][0][\"message\"][\"content\"]\n",
    "\n",
    "\n"
   ]
  },
  {
   "cell_type": "code",
   "execution_count": 9,
   "metadata": {},
   "outputs": [
    {
     "name": "stdout",
     "output_type": "stream",
     "text": [
      "Comparison Results:\n",
      "Work 1:\n",
      "1. Creativity: 7 - The author uses a creative metaphor to describe the setting of the sun, personifying it to make it seem as if it's kissing the horizon. It's not a completely original idea, but it's executed well.\n",
      "2. Coherence: 10 - The sentence is clear and flows logically, with the sun setting being a natural event that is easy to visualize.\n",
      "3. Emotional Impact: 8 - The phrasing of the sun bidding farewell with a fiery embrace evokes a sense of melancholy and the ending of a day. It's quite poignant and effective.\n",
      "\n",
      "Work 2:\n",
      "1. Creativity: 8 - The author also uses a metaphor to describe the rising of the moon, casting silver shadows. It's a slightly more original concept compared to the first work, with the idea of the moon's light being silver and creating shadows.\n",
      "2. Coherence: 10 - This sentence also flows well and is logical, painting a vivid image of night time and the world sleeping.\n",
      "3. Emotional Impact: 7.5 - The mention of the silence of the moon's rise and the sleeping world creates a serene and peaceful image, but it's slightly less emotionally evocative compared to the first work.\n",
      "\n",
      "Overall, both works are creatively written and coherent, with a slight edge in creativity for Work 2 and a slight edge in emotional impact for Work 1.\n"
     ]
    }
   ],
   "source": [
    "# Example Creative Works\n",
    "work1 = \"The sun kissed the horizon, bidding farewell with a fiery embrace.\"\n",
    "work2 = \"The moon rose silently, casting silver shadows on the sleeping world.\"\n",
    "\n",
    "comparison = compare_creative_works(work1, work2)\n",
    "print(\"Comparison Results:\")\n",
    "print(comparison)"
   ]
  },
  {
   "cell_type": "markdown",
   "metadata": {},
   "source": [
    "# Genre Specific Evaluation\n",
    "\n",
    "### Customize evaluation criteria for different genres (e.g., poetry, fiction, technical writing).\n",
    "\n",
    "### In the following case \n",
    "- evaluation criteria including ceativity , coherence and emotional impact, \n",
    "- the prompts are designed based on objective, scoring scales and instructions for providing feedback and effective prompt design is based on emphasizing relative comparisons as LLM is evaluating texts based on a genre \n",
    "- the evaluation process is strictured based on numerical scores"
   ]
  },
  {
   "cell_type": "code",
   "execution_count": 8,
   "metadata": {},
   "outputs": [],
   "source": [
    "# Adding Genre-Specific Functionality:\n",
    " \n",
    "def evaluate_genre_specific_work(text, genre):\n",
    "    prompt = f\"\"\"\n",
    "    You are an AI judge evaluating creative writing in the genre of {genre}. \n",
    "    Evaluate the following work based on:\n",
    "    1. Creativity (0-10): Originality and innovative use of language in {genre}.\n",
    "    2. Coherence (0-10): Logical flow and readability in {genre}.\n",
    "    3. Emotional Impact (0-10): Ability to evoke emotions effectively in {genre}.\n",
    "\n",
    "    Provide scores for each dimension and feedback for improvement.\n",
    "\n",
    "    Creative Work:\n",
    "    \"{text}\"\n",
    "    \"\"\"\n",
    "    \n",
    "    response = openai.ChatCompletion.create(\n",
    "        model=\"gpt-4\",\n",
    "        messages=[{\"role\": \"user\", \"content\": prompt}],\n",
    "        temperature=0.7\n",
    "    )\n",
    "    return response[\"choices\"][0][\"message\"][\"content\"]\n",
    "\n",
    "def extract_scores(response):\n",
    "    \"\"\"Extract scores from the LLM's response.\"\"\"\n",
    "    # response contains text like: \"Creativity: x/10, Coherence: y/10, Emotional Impact: z/10\"\n",
    "    scores = {}\n",
    "    for line in response.split(\"\\n\"):\n",
    "        if \"Creativity\" in line:\n",
    "            scores[\"Creativity\"] = int(line.split(\":\")[1].split(\"/\")[0].strip())\n",
    "        elif \"Coherence\" in line:\n",
    "            scores[\"Coherence\"] = int(line.split(\":\")[1].split(\"/\")[0].strip())\n",
    "        elif \"Emotional Impact\" in line:\n",
    "            scores[\"Emotional Impact\"] = int(line.split(\":\")[1].split(\"/\")[0].strip())\n",
    "    return scores\n",
    "\n",
    "def visualize_scores(scores):\n",
    "    \"\"\"Visualize scores dynamically.\"\"\"\n",
    "    dimensions = list(scores.keys())\n",
    "    values = list(scores.values())\n",
    "    \n",
    "    plt.bar(dimensions, values, color='skyblue')\n",
    "    plt.title(\"Genre-Specific Evaluation Scores\")\n",
    "    plt.xlabel(\"Dimensions\")\n",
    "    plt.ylabel(\"Scores (0-10)\")\n",
    "    plt.ylim(0, 10)\n",
    "    plt.show()\n",
    "\n",
    "\n",
    "\n"
   ]
  },
  {
   "cell_type": "code",
   "execution_count": 9,
   "metadata": {},
   "outputs": [
    {
     "name": "stdout",
     "output_type": "stream",
     "text": [
      "Genre-Specific Evaluation:\n",
      "1. Creativity: 8/10 - The use of personification for stars and waves is unique and provides an engaging and imaginative picture. However, the concept of stars and ocean being connected is not entirely new in the realm of poetry.\n",
      "   \n",
      "2. Coherence: 7/10 - The sentence flows well and is easy to read. However, it's only a single line, which makes it challenging to judge the overall coherence of a larger piece or poem. \n",
      "\n",
      "3. Emotional Impact: 6/10 - The imagery is rich and vivid, which can stir some emotional response. However, without more context or further development, the line's emotional impact is somewhat limited. \n",
      "\n",
      "Feedback: The line you've written is quite beautiful and evocative, but it would be beneficial to see it within the context of a larger poem. Also, consider exploring more unique or unexpected connections in your imagery to enhance the creativity of your writing. Expanding your work will also give you the opportunity to create a stronger emotional impact.\n",
      "Extracted Scores:\n",
      "{'Creativity': 8, 'Coherence': 7, 'Emotional Impact': 6}\n"
     ]
    },
    {
     "data": {
      "image/png": "[encoded data removed]",
      "text/plain": [
       "<Figure size 640x480 with 1 Axes>"
      ]
     },
     "metadata": {},
     "output_type": "display_data"
    }
   ],
   "source": [
    "# Example Usage\n",
    "creative_work = \"The stars whispered secrets to the waves, painting dreams in their wake.\"\n",
    "genre = \"poetry\"\n",
    "evaluation = evaluate_genre_specific_work(creative_work, genre)\n",
    "print(\"Genre-Specific Evaluation:\")\n",
    "print(evaluation)\n",
    "\n",
    "# Extract scores dynamically\n",
    "scores = extract_scores(evaluation)\n",
    "print(\"Extracted Scores:\")\n",
    "print(scores)\n",
    "\n",
    "# Visualize extracted scores\n",
    "visualize_scores(scores)\n"
   ]
  },
  {
   "cell_type": "markdown",
   "metadata": {},
   "source": [
    "# Allow users to write their own custom evaluation criteria \n",
    "\n",
    "### In the following case \n",
    "- evaluation criteria (custom evaluation) defined by users \n",
    "- the prompts are designed based on objective, scoring scales and instructions for providing feedback \n",
    "- the evaluation process is strictured based on numerical scores"
   ]
  },
  {
   "cell_type": "code",
   "execution_count": 10,
   "metadata": {},
   "outputs": [
    {
     "name": "stdout",
     "output_type": "stream",
     "text": [
      "Custom Evaluation Results:\n",
      "1. Imagery: 9/10\n",
      "The sentence is quite vivid and conjures a beautiful image of a serene forest singing lullabies. It elicits a sense of calmness and peace. However, it might have been more evocative with a few more specific details about the forest.\n",
      "\n",
      "2. Pacing: 8/10\n",
      "The pacing is pretty well done in this sentence. It is not too rushed nor too slow, but rather fitting for the tranquil scene being described. However, the pacing could have been extended a bit more to allow the readers to linger on the image created.\n",
      "\n",
      "3. Engagement: 7/10\n",
      "For just one sentence, it does a good job of engaging the reader. The personification of the forest singing lullabies piques the reader's interest and creates a sense of intrigue. However, it would have been more engaging if there were more details or a clear indication of a larger narrative. \n",
      "\n",
      "Overall, this sentence is a strong start and shows potential for a beautifully written piece. However, there is room for adding more intricacies.\n"
     ]
    }
   ],
   "source": [
    "def evaluate_with_custom_criteria(text, criteria):\n",
    "    criteria_list = \"\\n\".join([f\"{i+1}. {crit}\" for i, crit in enumerate(criteria)])\n",
    "    prompt = f\"\"\"\n",
    "    Evaluate the following creative work based on the custom criteria:\n",
    "    {criteria_list}.\n",
    "\n",
    "    Provide scores for each criterion and detailed feedback.\n",
    "\n",
    "    Creative Work:\n",
    "    \"{text}\"\n",
    "    \"\"\"\n",
    "    \n",
    "    response = openai.ChatCompletion.create(\n",
    "        model=\"gpt-4\",\n",
    "        messages=[{\"role\": \"user\", \"content\": prompt}],\n",
    "        temperature=0.7\n",
    "    )\n",
    "    return response[\"choices\"][0][\"message\"][\"content\"]\n",
    "\n",
    "\n"
   ]
  },
  {
   "cell_type": "code",
   "execution_count": 20,
   "metadata": {},
   "outputs": [
    {
     "name": "stdout",
     "output_type": "stream",
     "text": [
      "Custom Evaluation Results:\n",
      "1. Imagery: 9/10\n",
      "The imagery in this line is strong. It beautifully personifies the forest, suggesting that the sounds of the forest (like rustling leaves or a gentle wind) might be soothing like a lullaby. It also creates a vivid image of the weary travelers finding comfort in nature.\n",
      "\n",
      "2. Pacing: N/A\n",
      "As a single line, there's not enough content to accurately judge the pacing. However, the sentence itself doesn't rush its description or feeling, which suggests good pacing. \n",
      "\n",
      "3. Engagement: 8/10\n",
      "The sentence is engaging due to its anthropomorphic depiction of the forest. It draws the reader in, making them curious about who these travelers are and why they are weary. Despite being only one line, it holds a lot of promise for an engaging story.\n"
     ]
    }
   ],
   "source": [
    "# Example Usage\n",
    "custom_criteria = [\"Imagery\", \"Pacing\", \"Engagement\"]\n",
    "creative_work = \"The forest sang lullabies to the weary travelers.\"\n",
    "custom_evaluation = evaluate_with_custom_criteria(creative_work, custom_criteria)\n",
    "print(\"Custom Evaluation Results:\")\n",
    "print(custom_evaluation)"
   ]
  },
  {
   "cell_type": "markdown",
   "metadata": {},
   "source": [
    "# Add Explanation of LLM Judgement\n",
    "### Include a feature where the LLM explains how it arrived at the evaluation.\n",
    "\n",
    "### In the following case \n",
    "- evaluation criteria defined such as creativity, coherence and emotional impact\n",
    "- the prompts are designed based on objective, scoring scales and instructions for providing detailed reasoning for each defined criteria \n",
    "- the evaluation process is strictured based on numerical scores\n"
   ]
  },
  {
   "cell_type": "code",
   "execution_count": 11,
   "metadata": {},
   "outputs": [],
   "source": [
    "def explain_evaluation(text):\n",
    "    prompt = f\"\"\"\n",
    "    Explain how you evaluated the following creative work. \n",
    "    Provide a detailed reasoning for each dimension (Creativity, Coherence, Emotional Impact).\n",
    "\n",
    "    Creative Work:\n",
    "    \"{text}\"\n",
    "    \"\"\"\n",
    "    \n",
    "    response = openai.ChatCompletion.create(\n",
    "        model=\"gpt-4\",\n",
    "        messages=[{\"role\": \"user\", \"content\": prompt}],\n",
    "        temperature=0.7\n",
    "    )\n",
    "    return response[\"choices\"][0][\"message\"][\"content\"]\n",
    "\n"
   ]
  },
  {
   "cell_type": "code",
   "execution_count": 12,
   "metadata": {},
   "outputs": [
    {
     "name": "stdout",
     "output_type": "stream",
     "text": [
      "Explanation of Evaluation:\n",
      "Creativity: This sentence is highly creative. It uses personification, attributing human abilities to inanimate objects like stars. The concept of stars whispering secrets implies a mysterious, fantastical element. The phrase \"a forgotten time\" adds an aspect of timeless antiquity and mystery, inviting the reader to imagine what those secrets might be and what era they could be from. It's a unique and evocative way to describe a star-lit night and the ancient majesty of the cosmos.\n",
      "\n",
      "Coherence: Despite its poetic nature, the sentence is coherent. While stars literally cannot whisper secrets, the metaphor is clear and understandable. The reader can infer that the stars might represent the past, with their light taking millions of years to reach us. The phrase \"secrets of a forgotten time\" is a bit more abstract, but it could allude to ancient history, forgotten civilizations, or the origins of the universe itself. The metaphor and the narrative are consistent with each other, making the sentence coherent.\n",
      "\n",
      "Emotional Impact: The sentence has a strong emotional impact. The concept of whispering stars and secrets from a forgotten time creates a sense of wonder, curiosity, and nostalgia. It conveys an impression of the vast, unfathomable expanse of time and space, and our tiny but profound place within it. This can evoke feelings of awe, insignificance, and a longing to understand more about the universe and our history.\n"
     ]
    }
   ],
   "source": [
    "# Example Usage\n",
    "creative_work = \"The stars whispered secrets of a forgotten time.\"\n",
    "explanation = explain_evaluation(creative_work)\n",
    "print(\"Explanation of Evaluation:\")\n",
    "print(explanation)\n"
   ]
  },
  {
   "cell_type": "markdown",
   "metadata": {},
   "source": [
    "# Demonstrating Prompt Engineering \n",
    "### Experiment with slight changes in prompts to show how they affect evaluations.\n",
    "\n",
    "### In the following case \n",
    "- evaluation criteria defined such as creativity, coherence and emotional impact, cretaivity , coherence , engagement and uniqueness, flow and emotional connection\n",
    "- the prompts are designed using all different types of prompts based on objective, scoring scales \n",
    "- the evaluation process is strictured based on numerical scores\n"
   ]
  },
  {
   "cell_type": "code",
   "execution_count": 13,
   "metadata": {},
   "outputs": [],
   "source": [
    "# Tried different varities of prompts\n",
    "\n",
    "def demonstrate_prompt_variations(text):\n",
    "    prompts = [\n",
    "        f\"Evaluate the creative work for originality, readability, and emotional impact:\\n{text}\",\n",
    "        f\"Critique this writing piece based on creativity, coherence, and engagement:\\n{text}\",\n",
    "        f\"Score this creative work on its uniqueness, flow, and emotional connection:\\n{text}\"\n",
    "    ]\n",
    "    \n",
    "    results = []\n",
    "    for i, prompt in enumerate(prompts):\n",
    "        response = openai.ChatCompletion.create(\n",
    "            model=\"gpt-4\",\n",
    "            messages=[{\"role\": \"user\", \"content\": prompt}],\n",
    "            temperature=0.7\n",
    "        )\n",
    "        results.append((f\"Prompt {i+1}\", response[\"choices\"][0][\"message\"][\"content\"]))\n",
    "    \n",
    "    return results\n",
    "\n",
    "\n"
   ]
  },
  {
   "cell_type": "code",
   "execution_count": 17,
   "metadata": {},
   "outputs": [
    {
     "name": "stdout",
     "output_type": "stream",
     "text": [
      "Prompt 1\n",
      "Originality: 9/10 - The piece is quite original as it personifies the forest by giving it a voice and life of its own. It takes a unique perspective on the concept of a forest and turns it into something mystical and mysterious.\n",
      "\n",
      "Readability: 10/10 - The sentence is well-constructed and easy to understand. The choice of words is simple yet imaginative, and it flows smoothly.\n",
      "\n",
      "Emotional Impact: 8/10 - The sentence stirs up a sense of wonder and curiosity. It provokes the reader to imagine a forest that is alive and filled with untold stories. However, the emotional impact might vary among different readers as it depends on their personal interpretations and experiences.\n",
      "---\n",
      "Prompt 2\n",
      "This piece is certainly creative, painting a vivid and mystical image of the forest. The use of personification - attributing the forest with the ability to hum and carry whispers - adds a layer of intrigue and curiosity. It is coherent, as it presents a complete thought and communicates a clear image and atmosphere to the reader. The piece is also engaging - it piques interest and leaves the reader wanting to discover more about these 'ancient secrets'. However, it's difficult to provide a full critique based on this one sentence alone - the larger context of the story or poem would certainly provide more insight.\n",
      "---\n",
      "Prompt 3\n",
      "Uniqueness: 9/10. The concept of a forest being alive with secrets and whispers is a unique and engaging idea.\n",
      "\n",
      "Flow: 10/10. The sentence is well-structured and flows smoothly, with effective use of descriptive language.\n",
      "\n",
      "Emotional Connection: 8/10. The sentence creates a sense of mystery and wonder, inviting the reader to imagine and explore what those secrets might be. However, the emotional connection could be stronger if there was more context or a hint at what kind of secrets the forest might hold.\n",
      "---\n"
     ]
    }
   ],
   "source": [
    "# Example usage \n",
    "creative_work = \"The forest hummed with ancient secrets, carrying whispers through the trees.\"\n",
    "results = demonstrate_prompt_variations(creative_work)\n",
    "for prompt, result in results:\n",
    "    print(prompt)\n",
    "    print(result)\n",
    "    print(\"---\")"
   ]
  },
  {
   "cell_type": "markdown",
   "metadata": {},
   "source": [
    "# Add Iterative Feedback\n",
    "\n",
    "### LLMs can guide users in improving their work with actionable feedback.\n"
   ]
  },
  {
   "cell_type": "code",
   "execution_count": 21,
   "metadata": {},
   "outputs": [],
   "source": [
    "# illustrtation of feedback and iteration examples\n",
    "\n",
    "def iterative_feedback(text):\n",
    "    prompt = f\"\"\"\n",
    "    Evaluate the following creative work and provide feedback for improvement.\n",
    "    Then suggest how the revised version could score better.\n",
    "\n",
    "    Creative Work:\n",
    "    \"{text}\"\n",
    "    \"\"\"\n",
    "    \n",
    "    response = openai.ChatCompletion.create(\n",
    "        model=\"gpt-4\",\n",
    "        messages=[{\"role\": \"user\", \"content\": prompt}],\n",
    "        temperature=0.7\n",
    "    )\n",
    "    return response[\"choices\"][0][\"message\"][\"content\"]\n",
    "\n",
    "\n"
   ]
  },
  {
   "cell_type": "code",
   "execution_count": 22,
   "metadata": {},
   "outputs": [
    {
     "name": "stdout",
     "output_type": "stream",
     "text": [
      "Feedback and Suggestions:\n",
      "Evaluation:\n",
      "\n",
      "The sentence is beautifully crafted with effective imagery and personification. It creates a vivid scene in the reader's mind and conveys a sense of mystery and enchantment. The author uses the technique of personification by attributing the human ability to whisper secrets to the river, which adds depth to the content.\n",
      "\n",
      "Feedback for Improvement:\n",
      "\n",
      "Although the sentence is generally well written, it could potentially be improved by adding more specific details to further enhance the imagery and create a more immersive experience for the reader. \n",
      "\n",
      "Revised Version:\n",
      "\n",
      "\"The river whispered ancient secrets as it carved its relentless path through the verdant, whispering forest, its waters shimmering under the dappled sunlight.\" \n",
      "\n",
      "This revised version could score better because it adds more specific details (ancient secrets, relentless path, verdant forest, waters shimmering under dappled sunlight) that create a more vivid and engaging image for the reader, thereby enhancing the overall impact of the sentence.\n"
     ]
    }
   ],
   "source": [
    "# Example Usage\n",
    "creative_work = \"The river whispered secrets as it carved its way through the forest.\"\n",
    "feedback = iterative_feedback(creative_work)\n",
    "print(\"Feedback and Suggestions:\")\n",
    "print(feedback)"
   ]
  },
  {
   "cell_type": "markdown",
   "metadata": {},
   "source": [
    "# Model selection \n",
    "\n",
    "### Model selection is a critical step in ensuring that the chosen LLM can meet the requirements of the evaluation task. The process involves testing and comparing different models to identify the one that provides the best balance of accuracy, reasoning ability, and instruction-following capability for your specific use case.\n",
    "\n",
    "\n",
    "\n"
   ]
  },
  {
   "cell_type": "code",
   "execution_count": 27,
   "metadata": {},
   "outputs": [],
   "source": [
    "\n",
    "def evaluate_with_model(model_name, text, genre):\n",
    "    \"\"\"\n",
    "    Evaluate creative work using the specified model.\n",
    "    \n",
    "    Args:\n",
    "        model_name (str): The name of the LLM model (e.g., \"gpt-3.5-turbo\", \"gpt-4\").\n",
    "        text (str): The creative work to evaluate.\n",
    "        genre (str): The genre of the creative work.\n",
    "\n",
    "    Returns:\n",
    "        str: The response from the LLM.\n",
    "    \"\"\"\n",
    "    prompt = f\"\"\"\n",
    "    You are an AI judge evaluating creative writing in the genre of {genre}. \n",
    "    Evaluate the following work based on:\n",
    "    1. Creativity (0-10): How original and innovative is it?\n",
    "    2. Coherence (0-10): Does it flow logically and make sense?\n",
    "    3. Emotional Impact (0-10): Does it evoke feelings effectively?\n",
    "\n",
    "    Provide scores for each dimension and detailed feedback.\n",
    "\n",
    "    Creative Work:\n",
    "    \"{text}\"\n",
    "    \"\"\"\n",
    "    try:\n",
    "        response = openai.ChatCompletion.create(\n",
    "            model=model_name,\n",
    "            messages=[{\"role\": \"user\", \"content\": prompt}],\n",
    "            temperature=0.7\n",
    "        )\n",
    "        return response[\"choices\"][0][\"message\"][\"content\"]\n",
    "    except Exception as e:\n",
    "        return f\"Error with {model_name}: {e}\"\n",
    "\n"
   ]
  },
  {
   "cell_type": "code",
   "execution_count": 24,
   "metadata": {},
   "outputs": [],
   "source": [
    "def test_multiple_models(models, text, genre):\n",
    "    \"\"\"\n",
    "    Test multiple models on the same input and collect their outputs.\n",
    "    \n",
    "    Args:\n",
    "        models (list): List of model names to test (e.g., [\"gpt-3.5-turbo\", \"gpt-4\"]).\n",
    "        text (str): The creative work to evaluate.\n",
    "        genre (str): The genre of the creative work.\n",
    "\n",
    "    Returns:\n",
    "        dict: A dictionary containing the model names and their outputs.\n",
    "    \"\"\"\n",
    "    results = {}\n",
    "    for model in models:\n",
    "        print(f\"Testing model: {model}\")\n",
    "        results[model] = evaluate_with_model(model, text, genre)\n",
    "    return results\n",
    "\n"
   ]
  },
  {
   "cell_type": "code",
   "execution_count": 26,
   "metadata": {},
   "outputs": [
    {
     "name": "stdout",
     "output_type": "stream",
     "text": [
      "Testing model: gpt-3.5-turbo\n",
      "Testing model: gpt-4\n",
      "Results from gpt-3.5-turbo:\n",
      "Creativity: 7\n",
      "The imagery of the sun kissing the horizon and painting the skies with crimson and gold is a common poetic trope, but it is still beautifully described and evocative.\n",
      "\n",
      "Coherence: 8\n",
      "The description of the sun kissing the horizon and painting the skies with hues of crimson and gold flows logically and paints a clear picture in the reader's mind.\n",
      "\n",
      "Emotional Impact: 9\n",
      "The use of colors like crimson and gold to describe the sunset evokes a sense of warmth, beauty, and awe. The imagery is vivid and impactful, making the reader feel the beauty of the scene described.\n",
      "\n",
      "Overall, this work is well-crafted and evocative, with strong imagery that effectively conveys the beauty of a sunset. Great job!\n",
      "\n",
      "Results from gpt-4:\n",
      "Creativity: 5/10\n",
      "Coherence: 10/10\n",
      "Emotional Impact: 7/10\n",
      "\n",
      "Feedback:\n",
      "\n",
      "Creativity: The work is somewhat creative in that it uses metaphorical language (“the sun kissed the horizon”) to paint a vivid picture of a sunset. However, these descriptions are quite commonly used in poetry and literature, making the work less original. It would benefit from more surprising or unexpected imagery. \n",
      "\n",
      "Coherence: The sentence is highly coherent. It flows logically, with a clear subject (the sun) and action (kissing the horizon and painting the skies). The imagery is consistent and easily visualized, contributing to the overall coherence of the work.\n",
      "\n",
      "Emotional Impact: The work does a decent job of evoking feelings, specifically those of peace, tranquility, and awe that are often associated with sunsets. The use of color (\"crimson and gold\") intensifies these feelings. However, it might have a stronger emotional impact with more explicit emotional content or more personal, intimate imagery.\n",
      "\n"
     ]
    }
   ],
   "source": [
    "models_to_test = [\"gpt-3.5-turbo\", \"gpt-4\"]\n",
    "\n",
    "# Define the creative work and genre\n",
    "creative_work = \"The sun kissed the horizon, painting the skies with hues of crimson and gold.\"\n",
    "genre = \"poetry\"\n",
    "\n",
    "# Test the models\n",
    "results = test_multiple_models(models_to_test, creative_work, genre)\n",
    "\n",
    "# Print the results for analysis\n",
    "for model, output in results.items():\n",
    "    print(f\"Results from {model}:\\n{output}\\n\")\n",
    "\n",
    "\n"
   ]
  }
 ],
 "metadata": {
  "kernelspec": {
   "display_name": "Python 3",
   "language": "python",
   "name": "python3"
  },
  "language_info": {
   "codemirror_mode": {
    "name": "ipython",
    "version": 3
   },
   "file_extension": ".py",
   "mimetype": "text/x-python",
   "name": "python",
   "nbconvert_exporter": "python",
   "pygments_lexer": "ipython3",
   "version": "3.9.6"
  }
 },
 "nbformat": 4,
 "nbformat_minor": 2
}
